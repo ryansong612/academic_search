{
 "cells": [
  {
   "cell_type": "code",
   "execution_count": 3,
   "metadata": {},
   "outputs": [
    {
     "data": {
      "text/plain": [
       "22899"
      ]
     },
     "execution_count": 3,
     "metadata": {},
     "output_type": "execute_result"
    }
   ],
   "source": [
    "import json\n",
    "\n",
    "source = r\"D:\\0Business\\ML\\WOS\\Nature\\databank\\CrawlerData\\2022\\2022.json\"\n",
    "# 使用了2022年化学文献信息库\n",
    "source = json.loads(open(source, \"r\", encoding=\"utf8\").read())\n",
    "source_ = source[0]\n",
    "len(source)"
   ]
  },
  {
   "cell_type": "code",
   "execution_count": 17,
   "metadata": {},
   "outputs": [],
   "source": [
    "import tensorflow_hub as hub\n",
    "import tensorflow as tf\n",
    "import numpy as np\n",
    "\n",
    "def EmbedSentences(sentences):\n",
    "    # Load the Universal Sentence Encoder module\n",
    "    module_url = \"https://tfhub.dev/google/universal-sentence-encoder/4\"\n",
    "    model = hub.load(module_url)\n",
    "    # Generate embeddings for the sentences\n",
    "    embeddings = model(sentences)\n",
    "    return embeddings\n",
    "\n",
    "def eager_tensor_to_list(eager_tensor):\n",
    "    tensor_as_numpy = eager_tensor.numpy()\n",
    "    tensor_as_list = tensor_as_numpy.tolist()\n",
    "    return tensor_as_list\n",
    "\n",
    "def MetaData(source):\n",
    "    source_ = {\n",
    "        \"identifier\": source[\"identifier\"],\n",
    "        \"title\": source[\"title\"],\n",
    "        \"abstract\": source[\"abstract\"],\n",
    "        \"publicationDate\": source[\"publicationDate\"],\n",
    "        \"publicationName\": source[\"publicationName\"],\n",
    "        \"openaccess\": source[\"openaccess\"],\n",
    "        \"publisher\": source[\"publisher\"],\n",
    "        \"publicationType\": source[\"publicationType\"],\n",
    "        \"genre\": source[\"genre\"],\n",
    "        \"doi\": source[\"doi\"]\n",
    "    }\n",
    "    return source_"
   ]
  },
  {
   "cell_type": "code",
   "execution_count": 11,
   "metadata": {},
   "outputs": [
    {
     "name": "stdout",
     "output_type": "stream",
     "text": [
      "Processing batch starting from  0\n",
      "Processing batch starting from  0\n"
     ]
    }
   ],
   "source": [
    "id = 0\n",
    "idList = []\n",
    "metaList = []\n",
    "vectorList = []\n",
    "batch = 2000\n",
    "while id < 200:\n",
    "    print(\"Processing batch starting from \", id)\n",
    "    source_ = source[id : id+batch]\n",
    "    paragraphs = []\n",
    "    for item in source_:\n",
    "        try:\n",
    "            text = item[\"title\"] + \". \" + item[\"abstract\"]\n",
    "            paragraphs.append(text)\n",
    "\n",
    "            idList.append(item[\"doi\"])\n",
    "\n",
    "            metaInfo = MetaData(item)\n",
    "            metaList.append(metaInfo)\n",
    "        except Exception as e:\n",
    "            print(\">>> This item went wrong\")\n",
    "            print(item) \n",
    "            print(e)\n",
    "\n",
    "    print(\"Processing batch starting from \", id)\n",
    "    embeddings = EmbedSentences(paragraphs)\n",
    "    embeddings_ = [eager_tensor_to_list(item) for item in embeddings]\n",
    "    vectorList = vectorList + embeddings_\n",
    "\n",
    "    id += batch\n"
   ]
  },
  {
   "cell_type": "code",
   "execution_count": 18,
   "metadata": {},
   "outputs": [],
   "source": [
    "vectors = []\n",
    "for i in range(len(idList)):\n",
    "    data = {\n",
    "        \"id\": idList[i],\n",
    "        \"metadata\": MetaData(metaList[i]),\n",
    "        \"values\": vectorList[i]\n",
    "    }\n",
    "    vectors.append(data)"
   ]
  },
  {
   "cell_type": "code",
   "execution_count": 23,
   "metadata": {},
   "outputs": [],
   "source": [
    "namespace = \"chemistry_journals\"\n",
    "logData = {\n",
    "    \"vectors\": vectors[500: 1000],\n",
    "    \"namespace\": namespace\n",
    "}\n",
    "log = open(\"log1-1000.json\", \"w\", encoding=\"utf8\")\n",
    "log.write(json.dumps(logData, indent=4))\n",
    "log.flush()"
   ]
  }
 ],
 "metadata": {
  "kernelspec": {
   "display_name": "Python 3",
   "language": "python",
   "name": "python3"
  },
  "language_info": {
   "codemirror_mode": {
    "name": "ipython",
    "version": 3
   },
   "file_extension": ".py",
   "mimetype": "text/x-python",
   "name": "python",
   "nbconvert_exporter": "python",
   "pygments_lexer": "ipython3",
   "version": "3.10.6"
  },
  "orig_nbformat": 4
 },
 "nbformat": 4,
 "nbformat_minor": 2
}
