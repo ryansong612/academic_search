{
 "cells": [
  {
   "cell_type": "code",
   "execution_count": null,
   "metadata": {},
   "outputs": [],
   "source": [
    "from Engine import rank_paragraphs\n",
    "\n",
    "import json\n",
    "\n",
    "source = \"../../DataBank/dataset_doc2vec.json\"\n",
    "source = json.loads(open(source, \"r\", encoding=\"utf8\").read())\n",
    "\n",
    "query = source[\"query\"]\n",
    "\n",
    "paragraphs = source[\"data\"][:20]\n",
    "paragraphs = [paragraph['text'] for paragraph in paragraphs]\n",
    "\n",
    "relevance_truth = source[\"data\"][:20]\n",
    "relevance_truth = [item['relevance'] for item in relevance_truth]"
   ]
  },
  {
   "cell_type": "code",
   "execution_count": null,
   "metadata": {},
   "outputs": [],
   "source": [
    "relevance = rank_paragraphs(query, paragraphs)"
   ]
  }
 ],
 "metadata": {
  "language_info": {
   "name": "python"
  },
  "orig_nbformat": 4
 },
 "nbformat": 4,
 "nbformat_minor": 2
}
